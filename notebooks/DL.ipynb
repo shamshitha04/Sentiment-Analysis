{
 "cells": [
  {
   "cell_type": "code",
   "execution_count": null,
   "id": "a5709bd8",
   "metadata": {},
   "outputs": [],
   "source": [
    "import numpy as np\n",
    "import torch\n",
    "from sklearn.model_selection import train_test_split\n",
    "from sklearn.metrics import accuracy_score\n",
    "from torch.utils.data import DataLoader,Dataset\n",
    "from torch import nn\n",
    "from torch.optim import Adam\n",
    "from torch.nn import Sequential,Linear,ReLU,Dropout,LSTM,Embedding\n",
    "from sklearn.\n",
    "from sklearn.feature_extraction.text import TfidfVectorizer"
   ]
  },
  {
   "cell_type": "code",
   "execution_count": 1,
   "id": "62c367d5",
   "metadata": {},
   "outputs": [
    {
     "name": "stdout",
     "output_type": "stream",
     "text": [
      "['upset update facebook texting might cry result school today also blah'\n",
      " 'kenichan dived many time ball managed save rest bound'\n",
      " 'whole body feel itchy like fire' ... 'ready mojo makeover ask detail'\n",
      " 'happy birthday boo alll time tupac amaru shakur'\n",
      " 'happy charitytuesday thenspcc sparkscharity speakinguph']\n",
      "[0 0 0 ... 1 1 1]\n"
     ]
    }
   ],
   "source": [
    "import pandas as pd\n",
    "\n",
    "# Load cleaned data\n",
    "df = pd.read_csv(\"notebooks/preprocess/imdb_clean.csv\")\n",
    "x = df['preprocessed_text'].values\n",
    "y = df['sentiment'].values  # or the target column name\n",
    "\n",
    "print(x)\n",
    "print(y)\n"
   ]
  },
  {
   "cell_type": "code",
   "execution_count": null,
   "id": "57b3afa4",
   "metadata": {},
   "outputs": [],
   "source": []
  }
 ],
 "metadata": {
  "kernelspec": {
   "display_name": "sentiment",
   "language": "python",
   "name": "python3"
  },
  "language_info": {
   "codemirror_mode": {
    "name": "ipython",
    "version": 3
   },
   "file_extension": ".py",
   "mimetype": "text/x-python",
   "name": "python",
   "nbconvert_exporter": "python",
   "pygments_lexer": "ipython3",
   "version": "3.10.18"
  }
 },
 "nbformat": 4,
 "nbformat_minor": 5
}
